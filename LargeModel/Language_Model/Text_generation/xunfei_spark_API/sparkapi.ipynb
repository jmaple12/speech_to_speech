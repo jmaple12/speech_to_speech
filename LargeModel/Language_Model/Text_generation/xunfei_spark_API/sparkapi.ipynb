{
 "cells": [
  {
   "cell_type": "code",
   "execution_count": null,
   "metadata": {},
   "outputs": [],
   "source": [
    "from sparkAPI import main\n",
    "import pickle\n",
    "import sys\n",
    "with open('sparkinfo.pkl', 'rb') as pklfile:\n",
    "    spark=pickle.load(pklfile)\n",
    "\n",
    "gpt_url=\"wss://spark-api.xf-yun.com/v3.5/chat\"\n",
    "domain=\"generalv3.5\""
   ]
  },
  {
   "cell_type": "code",
   "execution_count": null,
   "metadata": {},
   "outputs": [],
   "source": [
    "messages = [{'role':'system', 'content':'您是一个知心朋友，你的任务是陪用户聊天。'}]\n",
    "tokens_use = 0\n",
    "while(True):\n",
    "    if len(messages)>7:\n",
    "        for i in range(4):\n",
    "            messages.pop(1)\n",
    "    question = input()\n",
    "    if (len(question)==0)|(question=='拜拜'):\n",
    "        break\n",
    "    messages.append({'role':'user', 'content':question})\n",
    "    print('用户：', question)\n",
    "    print('Spark：', end='')\n",
    "    #return_json:返回的最后一条json记录，answer:返回的结果\n",
    "    return_json, answer = main(**spark, gpt_url=gpt_url, domain=domain, messages=messages,temperature=0.5, max_tokens=4096)\n",
    "    #token使用数\n",
    "    tokens_use += return_json['payload']['usage']['text']['total_tokens']\n",
    "    messages.append({'role':'assistant', 'content':answer})"
   ]
  }
 ],
 "metadata": {
  "kernelspec": {
   "display_name": "base",
   "language": "python",
   "name": "python3"
  },
  "language_info": {
   "codemirror_mode": {
    "name": "ipython",
    "version": 3
   },
   "file_extension": ".py",
   "mimetype": "text/x-python",
   "name": "python",
   "nbconvert_exporter": "python",
   "pygments_lexer": "ipython3",
   "version": "3.8.18"
  }
 },
 "nbformat": 4,
 "nbformat_minor": 2
}
