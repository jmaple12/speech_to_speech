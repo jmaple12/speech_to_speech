{
 "cells": [
  {
   "cell_type": "code",
   "execution_count": null,
   "metadata": {},
   "outputs": [],
   "source": [
    "import os\n",
    "import qianfan\n",
    "import re\n",
    "import pickle\n",
    "import logging\n",
    "from qianfan.utils import enable_log\n",
    "enable_log(logging.ERROR)\n",
    "\n",
    "with open('ernie_key.pkl','rb') as ernie_file:\n",
    "    ernie_keys = pickle.load(ernie_file)\n",
    "\n",
    "for keys in ernie_keys:\n",
    "    os.environ[keys]=ernie_keys[keys]"
   ]
  },
  {
   "cell_type": "code",
   "execution_count": null,
   "metadata": {},
   "outputs": [],
   "source": [
    "chat_comp = qianfan.ChatCompletion()\n",
    "\n",
    "# 下面是一个与用户对话的例子\n",
    "msgs = []\n",
    "#计算tokens数\n",
    "tokens_use =0\n",
    "while True:\n",
    "    if len(msgs)>8:\n",
    "        for i in range(4):\n",
    "            msgs.pop(0)\n",
    "    myinput=input(\"输入：\")\n",
    "    ques_message={'role':'user', 'content':myinput}\n",
    "    \n",
    "    #停止：\n",
    "    if re.sub(r'[ .。！!?？-]','', myinput) in {'拜拜', '再见','byebye', 'Byebye' ,'掰掰','','\\n'}:\n",
    "        break\n",
    "    msgs.append(ques_message)\n",
    "    print('用户：',myinput)\n",
    "    #两个模型价格一样，但是输出长度不同\n",
    "    model = 'ERNIE-Bot'\n",
    "    model = 'ERNIE-3.5-4K-0205'\n",
    "    # request_timeout:请求超时阙值, enable_citation:上角标注明来源,  max_output_tokens:最大tockens(messages所有加起来)\n",
    "    resp = chat_comp.do(messages=msgs, model=model, stream=True, \n",
    "                        request_timeout=5, enable_citation=True, max_output_tokens=1024)\n",
    "    \n",
    "    answer=''\n",
    "    print('Ernie Bot：',end='')\n",
    "    for chunk in resp:\n",
    "        answer+= chunk['result']\n",
    "        print(chunk['result'], end='', flush=True)\n",
    "    print('####end',end='', flush=True)\n",
    "    answer_message = {'role':'assistant', 'content':answer}\n",
    "    msgs.append(answer_message)\n",
    "    tokens_use += chunk['usage']['total_tokens']"
   ]
  }
 ],
 "metadata": {
  "kernelspec": {
   "display_name": "base",
   "language": "python",
   "name": "python3"
  },
  "language_info": {
   "codemirror_mode": {
    "name": "ipython",
    "version": 3
   },
   "file_extension": ".py",
   "mimetype": "text/x-python",
   "name": "python",
   "nbconvert_exporter": "python",
   "pygments_lexer": "ipython3",
   "version": "3.8.18"
  }
 },
 "nbformat": 4,
 "nbformat_minor": 2
}
