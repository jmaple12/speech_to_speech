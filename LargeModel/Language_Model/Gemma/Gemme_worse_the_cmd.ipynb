{
 "cells": [
  {
   "cell_type": "code",
   "execution_count": 1,
   "metadata": {},
   "outputs": [
    {
     "name": "stdout",
     "output_type": "stream",
     "text": [
      "**如何应对天冷：**\n",
      "\n",
      "**1. 保持舒适的温度：**\n",
      "* 打开窗户并让自然风流进来。\n",
      "* 使用遮阳器或毯子在房间内制造温暖的微风。\n",
      "* 使用衣物和毯子包裹自己，以保持身体的温暖。\n",
      "\n",
      "**2. 享受自然热源：**\n",
      "* 坐在阳光下散步或户外活动。\n",
      "* 浸泡在热水中的浴缸或澡堂中。\n",
      "* 在炎热的下午，在户外活动。\n",
      "\n",
      "**3. 摄取热食物：**\n",
      "* 吃热汤、热粥或热饭。\n",
      "* 服用热 drink，如咖啡或茶。\n",
      "\n",
      "**4. 保持水分：**\n",
      "* 饮用大量的水，尤其是在炎热的天气中。\n",
      "* 用湿巾或毛巾擦干身体。\n",
      "\n",
      "**5. 减少活动时间：**\n",
      "* 在炎热的下午，避免长时间在烈日下的活动。\n",
      "* 在高温时休息一下，例如阅读或看电视。\n",
      "\n",
      "**6. 使用冷却剂：**\n",
      "* 在过度热身时，可以使用冰块、凉水或毛巾敷在皮肤上。\n",
      "* 确保冷水或冰块不会倒入眼睛或鼻孔。\n",
      "\n",
      "**7. 寻求专业帮助：**\n",
      "* 如果天冷症状严重或持续，请寻求医生或医生。\n",
      "* 某些健康状况，如心脏病或糖尿病，在炎热期间可能更加敏感。\n",
      "\n",
      "**提示：**\n",
      "\n",
      "* 避免在高温下运动或活动。\n",
      "* 适度使用空调或移动设备。\n",
      "* 准备一些冷水或冰袋，以应对热汗。\n",
      "* 保持良好的皮肤卫生，并定期涂抹护肤产品。\n"
     ]
    }
   ],
   "source": [
    "# pip install ollama\n",
    "import ollama\n",
    "stream = ollama.chat(\n",
    "    model='gemma:2b',\n",
    "    messages=[{'role': 'user', 'content': '天冷了应该怎么办'}],\n",
    "    # stream=True,\n",
    ")\n",
    "\n",
    "outword=\"\"\n",
    "for chunk in stream:\n",
    "  outword+=chunk['message']['content']\n",
    "  print(chunk['message']['content'], end='', flush=True)\n",
    "# print(stream['message']['content'],flush=True)"
   ]
  },
  {
   "cell_type": "code",
   "execution_count": 6,
   "metadata": {},
   "outputs": [
    {
     "name": "stdout",
     "output_type": "stream",
     "text": [
      "目前语速是： 200 \t 语音音量是: 1.0\n",
      "Sure, here's a happy memory for you:\n",
      "\n",
      "A few years ago, I was lucky enough to visit a beautiful park in the heart of the city. The sun was shining brightly, the birds were singing in the trees"
     ]
    },
    {
     "name": "stderr",
     "output_type": "stream",
     "text": [
      "Exception ignored in: <function BSTR.__del__ at 0x000001C5C01D7B80>\n",
      "Traceback (most recent call last):\n",
      "  File \"D:\\Anaconda\\lib\\site-packages\\comtypes\\__init__.py\", line 1043, in __del__\n",
      "    def __del__(self, _free=windll.oleaut32.SysFreeString):\n",
      "KeyboardInterrupt: \n"
     ]
    },
    {
     "name": "stdout",
     "output_type": "stream",
     "text": [
      ", and the flowers were in bloom in vibrant colors.\n",
      "\n",
      "As I took a stroll through the park, I couldn't help but smile"
     ]
    }
   ],
   "source": [
    "#ai回复并发声\n",
    "def text_voice(engine, rate=-1, volume=-1, voice=-1):\n",
    "    '''\n",
    "    三个参数：\n",
    "    rate:速率\n",
    "    volume:音量，【0,1】\n",
    "    voice:声音，0为男声，1为女声\n",
    "    '''\n",
    "    if rate!=-1:\n",
    "        engine.setProperty('rate', rate)\n",
    "    if volume!=-1:\n",
    "        engine.setProperty('volume',volume)\n",
    "    if voice!=-1:\n",
    "        voices = engine.getProperty('voices')       \n",
    "        engine.setProperty('voice', voices[voice].id)\n",
    "    return engine\n",
    "\n",
    "#pyttsx3无法说话\n",
    "import pyttsx3\n",
    "engine = pyttsx3.init()\n",
    "engine = text_voice(engine, rate=130)\n",
    "(r,ve,vs) = (engine.getProperty('rate'),engine.getProperty('volume'), engine.getProperty('voices'))\n",
    "print('目前语速是：',r,'\\t','语音音量是:',ve)\n",
    "\n",
    "\n",
    "import ollama\n",
    "# import speech\n",
    "stream = ollama.chat(\n",
    "    model='gemma:2b',\n",
    "    messages=[{'role': 'user', 'content': 'do you have a happy memorary'}],\n",
    "    stream=True,\n",
    ")\n",
    "outword2=\"\"\n",
    "outword=\"\"\n",
    "outword3=\"\"\n",
    "\n",
    "for chunk in stream:\n",
    "    outword3 = chunk['message']['content']\n",
    "    outword2 += outword3\n",
    "    outword += outword3\n",
    "    #语音播放\n",
    "    if outword3 in {',','.','。','，','!','！', '?', '？',':', '：'}:\n",
    "        outword = outword.replace('\\n','').replace('*','')\n",
    "        # speech.say(outword)\n",
    "        engine.say(outword)\n",
    "        \n",
    "        outword=\"\"\n",
    "    engine.runAndWait()\n",
    "    #打印对话内容\n",
    "    print(outword3, end='', flush=True)"
   ]
  }
 ],
 "metadata": {
  "kernelspec": {
   "display_name": "base",
   "language": "python",
   "name": "python3"
  },
  "language_info": {
   "codemirror_mode": {
    "name": "ipython",
    "version": 3
   },
   "file_extension": ".py",
   "mimetype": "text/x-python",
   "name": "python",
   "nbconvert_exporter": "python",
   "pygments_lexer": "ipython3",
   "version": "3.8.18"
  }
 },
 "nbformat": 4,
 "nbformat_minor": 2
}
