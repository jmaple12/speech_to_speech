{
 "cells": [
  {
   "cell_type": "code",
   "execution_count": null,
   "metadata": {},
   "outputs": [],
   "source": [
    "# pip install ollama\n",
    "import ollama\n",
    "stream = ollama.chat(\n",
    "    model='gemma:2b',\n",
    "    messages=[{'role': 'user', 'content': '天冷了应该怎么办'}],\n",
    "    # stream=True,\n",
    ")\n",
    "\n",
    "outword=\"\"\n",
    "for chunk in stream:\n",
    "  outword+=chunk['message']['content']\n",
    "  print(chunk['message']['content'], end='', flush=True)\n",
    "# print(stream['message']['content'],flush=True)"
   ]
  },
  {
   "cell_type": "code",
   "execution_count": null,
   "metadata": {},
   "outputs": [],
   "source": [
    "#ai回复并发声\n",
    "def text_voice(engine, rate=-1, volume=-1, voice=-1):\n",
    "    '''\n",
    "    三个参数：\n",
    "    rate:速率\n",
    "    volume:音量，【0,1】\n",
    "    voice:声音，0为男声，1为女声\n",
    "    '''\n",
    "    if rate!=-1:\n",
    "        engine.setProperty('rate', rate)\n",
    "    if volume!=-1:\n",
    "        engine.setProperty('volume',volume)\n",
    "    if voice!=-1:\n",
    "        voices = engine.getProperty('voices')       \n",
    "        engine.setProperty('voice', voices[voice].id)\n",
    "    return engine\n",
    "\n",
    "#pyttsx3无法说话\n",
    "import pyttsx3\n",
    "engine = pyttsx3.init()\n",
    "engine = text_voice(engine, rate=130)\n",
    "(r,ve,vs) = (engine.getProperty('rate'),engine.getProperty('volume'), engine.getProperty('voices'))\n",
    "print('目前语速是：',r,'\\t','语音音量是:',ve)\n",
    "\n",
    "\n",
    "import ollama\n",
    "# import speech\n",
    "stream = ollama.chat(\n",
    "    model='gemma:2b',\n",
    "    messages=[{'role': 'user', 'content': 'do you have a happy memorary'}],\n",
    "    stream=True,\n",
    ")\n",
    "outword2=\"\"\n",
    "outword=\"\"\n",
    "outword3=\"\"\n",
    "\n",
    "for chunk in stream:\n",
    "    outword3 = chunk['message']['content']\n",
    "    outword2 += outword3\n",
    "    outword += outword3\n",
    "    #语音播放\n",
    "    if outword3 in {',','.','。','，','!','！', '?', '？',':', '：'}:\n",
    "        outword = outword.replace('\\n','').replace('*','')\n",
    "        # speech.say(outword)\n",
    "        engine.say(outword)\n",
    "        \n",
    "        outword=\"\"\n",
    "    engine.runAndWait()\n",
    "    #打印对话内容\n",
    "    print(outword3, end='', flush=True)"
   ]
  }
 ],
 "metadata": {
  "kernelspec": {
   "display_name": "base",
   "language": "python",
   "name": "python3"
  },
  "language_info": {
   "codemirror_mode": {
    "name": "ipython",
    "version": 3
   },
   "file_extension": ".py",
   "mimetype": "text/x-python",
   "name": "python",
   "nbconvert_exporter": "python",
   "pygments_lexer": "ipython3",
   "version": "3.8.18"
  }
 },
 "nbformat": 4,
 "nbformat_minor": 2
}
