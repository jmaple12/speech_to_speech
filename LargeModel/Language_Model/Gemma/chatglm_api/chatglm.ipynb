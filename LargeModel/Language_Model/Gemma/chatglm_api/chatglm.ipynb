{
 "cells": [
  {
   "cell_type": "code",
   "execution_count": null,
   "metadata": {},
   "outputs": [],
   "source": [
    "from zhipuai import ZhipuAI\n",
    "with open('api_key.txt', 'r') as chatglm_api:\n",
    "    api_key = chatglm_api.read()\n",
    "client = ZhipuAI(api_key=api_key.split('=')[1].strip('\"')) # 填写您自己的APIKey"
   ]
  },
  {
   "cell_type": "code",
   "execution_count": null,
   "metadata": {},
   "outputs": [],
   "source": [
    "messages = [{\"role\": \"system\", \"content\":\"您是一个知心朋友，你的任务是陪用户聊有趣的事情。\"}]\n",
    "tokens_use = 0\n",
    "while(True):\n",
    "    #剪切历史记录每9条删除前面4条\n",
    "    if len(messages)>7:\n",
    "        for i in range(4):\n",
    "            messages.pop(1)\n",
    "    question = input('请输入你的问题')\n",
    "    if (len(question)==0)|(question=='拜拜'):\n",
    "        break\n",
    "    print('用户：', question)\n",
    "    print('智谱：', end='')\n",
    "    messages.append({\"role\": \"user\", \"content\": question})\n",
    "    model = 'glm-4'\n",
    "    response = client.chat.completions.create(\n",
    "        model=model,  # 填写需要调用的模型名称\n",
    "        messages=messages,\n",
    "        # max_tokens=1024,#所以历史记录加起来不能超过这个长度\n",
    "        stream=True,\n",
    "    )\n",
    "    answer=''\n",
    "    for chunk in response:\n",
    "        answer_chunk = chunk.choices[0].delta.content\n",
    "        answer+= answer_chunk\n",
    "        print(answer_chunk, end='', flush=True)\n",
    "    tokens_use += chunk.usage.total_tokens\n",
    "    messages.append({\"role\": \"assistant\", \"content\": answer})"
   ]
  }
 ],
 "metadata": {
  "kernelspec": {
   "display_name": "base",
   "language": "python",
   "name": "python3"
  },
  "language_info": {
   "codemirror_mode": {
    "name": "ipython",
    "version": 3
   },
   "file_extension": ".py",
   "mimetype": "text/x-python",
   "name": "python",
   "nbconvert_exporter": "python",
   "pygments_lexer": "ipython3",
   "version": "3.8.18"
  }
 },
 "nbformat": 4,
 "nbformat_minor": 2
}
