{
 "cells": [
  {
   "cell_type": "code",
   "execution_count": null,
   "metadata": {},
   "outputs": [],
   "source": [
    "#gradio生成对话框--https://blog.csdn.net/dfBeautifulLive/article/details/134291088"
   ]
  },
  {
   "cell_type": "code",
   "execution_count": null,
   "metadata": {},
   "outputs": [],
   "source": [
    "import gradio as gr\n",
    "import sys\n",
    "import os\n",
    "import torch\n",
    "os.environ['HF_ENDPOINT']='hf-mirror.com'\n",
    "import warnings\n",
    "warnings.filterwarnings(\"ignore\")\n",
    "#清理内存\n",
    "os.environ[\"PYTORCH_CUDA_ALLOC_CONF\"] = \"max_split_size_mb:128\"\n",
    "if hasattr(torch.cuda, 'empty_cache'):\n",
    "    torch.cuda.empty_cache()\n",
    "\n",
    "sys.path.append('../voice_record')\n",
    "from voice_record_def import listen#记录输入的语音\n",
    "sys.path.append('../Speech_to_Text')\n",
    "from Whisper.Whisper import whisper_output\n",
    "from Fast_whisper.Fast_whisper import fast_whisper_opt"
   ]
  },
  {
   "cell_type": "code",
   "execution_count": 17,
   "metadata": {},
   "outputs": [
    {
     "name": "stdout",
     "output_type": "stream",
     "text": [
      "录音结束    Running on local URL:  http://127.0.0.1:7865\n",
      "\n",
      "To create a public link, set `share=True` in `launch()`.\n"
     ]
    },
    {
     "data": {
      "text/html": [
       "<div><iframe src=\"http://127.0.0.1:7865/\" width=\"100%\" height=\"500\" allow=\"autoplay; camera; microphone; clipboard-read; clipboard-write;\" frameborder=\"0\" allowfullscreen></iframe></div>"
      ],
      "text/plain": [
       "<IPython.core.display.HTML object>"
      ]
     },
     "metadata": {},
     "output_type": "display_data"
    },
    {
     "data": {
      "text/plain": []
     },
     "execution_count": 17,
     "metadata": {},
     "output_type": "execute_result"
    },
    {
     "name": "stderr",
     "output_type": "stream",
     "text": [
      "Traceback (most recent call last):\n",
      "  File \"d:\\Anaconda\\lib\\site-packages\\gradio\\queueing.py\", line 495, in call_prediction\n",
      "    output = await route_utils.call_process_api(\n",
      "  File \"d:\\Anaconda\\lib\\site-packages\\gradio\\route_utils.py\", line 235, in call_process_api\n",
      "    output = await app.get_blocks().process_api(\n",
      "  File \"d:\\Anaconda\\lib\\site-packages\\gradio\\blocks.py\", line 1627, in process_api\n",
      "    result = await self.call_function(\n",
      "  File \"d:\\Anaconda\\lib\\site-packages\\gradio\\blocks.py\", line 1173, in call_function\n",
      "    prediction = await anyio.to_thread.run_sync(\n",
      "  File \"d:\\Anaconda\\lib\\site-packages\\anyio\\to_thread.py\", line 28, in run_sync\n",
      "    return await get_asynclib().run_sync_in_worker_thread(func, *args, cancellable=cancellable,\n",
      "  File \"d:\\Anaconda\\lib\\site-packages\\anyio\\_backends\\_asyncio.py\", line 818, in run_sync_in_worker_thread\n",
      "    return await future\n",
      "  File \"d:\\Anaconda\\lib\\site-packages\\anyio\\_backends\\_asyncio.py\", line 754, in run\n",
      "    result = context.run(func, *args)\n",
      "  File \"d:\\Anaconda\\lib\\site-packages\\gradio\\utils.py\", line 690, in wrapper\n",
      "    response = f(*args, **kwargs)\n",
      "  File \"C:\\Users\\maple\\AppData\\Local\\Temp\\ipykernel_24108\\426103041.py\", line 13, in process_audio\n",
      "    text = fast_whisper_opt(audio)\n",
      "  File \"e:\\LargeModel\\Gradio_Python\\../Speech_to_Text\\fast_whisper\\fast_whisper.py\", line 21, in fast_whisper_opt\n",
      "    model = WhisperModel(model_size, device=\"cuda\", compute_type=\"int8_float16\", download_root=download_root, local_files_only=False)\n",
      "  File \"d:\\Anaconda\\lib\\site-packages\\faster_whisper\\transcribe.py\", line 133, in __init__\n",
      "    self.model = ctranslate2.models.Whisper(\n",
      "RuntimeError: Unable to open file 'model.bin' in model 'E:\\LargeModel\\Speech_to_Text\\fast_whisper\\models--Systran--faster-whisper-large-v3\\snapshots\\edaa852ec7e145841d8ffdb056a99866b5f0a478'\n"
     ]
    }
   ],
   "source": [
    "def predict(input, history=[]):\n",
    "    #输入文本\n",
    "    history.append(input)\n",
    "    #回复\n",
    "    history.append('你好')\n",
    "    # [::2]取出输入，取出输出history[1::2]\n",
    "    reporse=zip(history[::2], history[1::2])\n",
    "    print(reporse)\n",
    "    return reporse,history;\n",
    "\n",
    "# 录音文件转文本的过程\n",
    "def process_audio(audio, history=[]):\n",
    "    text = fast_whisper_opt(audio)\n",
    "    print('文本是：',text)\n",
    "    if text is None:\n",
    "        text=\"你好\"\n",
    "    return predict(text, history)\n",
    "\n",
    " \n",
    "with gr.Blocks(css=\"#chatbot{height:800px} .overflow-y-auto{height:800px}\") as demo:\n",
    "    chatbot = gr.Chatbot(elem_id=\"chatbot\")\n",
    "    state = gr.State([])\n",
    "    with gr.Row():\n",
    "        txt = gr.Textbox(show_label=False, placeholder=\"Enter text and press enter\")\n",
    "    \n",
    "    txt.submit(process_audio, [txt,state], [chatbot,state])\n",
    "    \n",
    "    audio.change(process_audio, [audio, state], [chatbot, state])\n",
    "# help(txt.submit)\n",
    "\n",
    "#录音功能\n",
    "\n",
    "outfile_name= 'test.wav'\n",
    "#语音输入\n",
    "listen(outfile_name)\n",
    "text = fast_whisper_opt(outfile_name)\n",
    "demo.launch() "
   ]
  },
  {
   "cell_type": "code",
   "execution_count": 15,
   "metadata": {},
   "outputs": [
    {
     "name": "stdout",
     "output_type": "stream",
     "text": [
      "录音结束    Running on local URL:  http://127.0.0.1:7863\n",
      "\n",
      "To create a public link, set `share=True` in `launch()`.\n"
     ]
    },
    {
     "data": {
      "text/html": [
       "<div><iframe src=\"http://127.0.0.1:7863/\" width=\"100%\" height=\"500\" allow=\"autoplay; camera; microphone; clipboard-read; clipboard-write;\" frameborder=\"0\" allowfullscreen></iframe></div>"
      ],
      "text/plain": [
       "<IPython.core.display.HTML object>"
      ]
     },
     "metadata": {},
     "output_type": "display_data"
    },
    {
     "data": {
      "text/plain": []
     },
     "execution_count": 15,
     "metadata": {},
     "output_type": "execute_result"
    }
   ],
   "source": []
  }
 ],
 "metadata": {
  "kernelspec": {
   "display_name": "base",
   "language": "python",
   "name": "python3"
  },
  "language_info": {
   "codemirror_mode": {
    "name": "ipython",
    "version": 3
   },
   "file_extension": ".py",
   "mimetype": "text/x-python",
   "name": "python",
   "nbconvert_exporter": "python",
   "pygments_lexer": "ipython3",
   "version": "3.8.19"
  }
 },
 "nbformat": 4,
 "nbformat_minor": 2
}
