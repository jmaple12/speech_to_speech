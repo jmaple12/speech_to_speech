{
 "cells": [
  {
   "cell_type": "markdown",
   "metadata": {},
   "source": [
    "##### 测试测试py_file里面的函数文件，它的os在run.bat所在路径"
   ]
  },
  {
   "cell_type": "markdown",
   "metadata": {},
   "source": [
    "###### 创建一个简单的聊天框架"
   ]
  },
  {
   "cell_type": "code",
   "execution_count": 1,
   "metadata": {},
   "outputs": [
    {
     "ename": "IndexError",
     "evalue": "string index out of range",
     "output_type": "error",
     "traceback": [
      "\u001b[1;31m---------------------------------------------------------------------------\u001b[0m",
      "\u001b[1;31mIndexError\u001b[0m                                Traceback (most recent call last)",
      "Cell \u001b[1;32mIn[1], line 2\u001b[0m\n\u001b[0;32m      1\u001b[0m a \u001b[38;5;241m=\u001b[39m \u001b[38;5;124m'\u001b[39m\u001b[38;5;124m'\u001b[39m\n\u001b[1;32m----> 2\u001b[0m \u001b[43ma\u001b[49m\u001b[43m[\u001b[49m\u001b[38;5;241;43m-\u001b[39;49m\u001b[38;5;241;43m1\u001b[39;49m\u001b[43m]\u001b[49m\n",
      "\u001b[1;31mIndexError\u001b[0m: string index out of range"
     ]
    }
   ],
   "source": [
    "a = ''\n",
    "a[-1]"
   ]
  },
  {
   "cell_type": "code",
   "execution_count": null,
   "metadata": {},
   "outputs": [],
   "source": [
    "import time\n",
    "def fun():\n",
    "    time.sleep(2)\n",
    "    return(1)\n",
    "\n",
    "import gradio as gr\n",
    "with gr.Blocks() as hh:\n",
    "    aa = gr.Button()\n",
    "    ss = gr.Json({\"a\":[1]})\n",
    "    cc = gr.Textbox('1')\n",
    "    gg = gr.Number(2)\n",
    "    aa1 = aa.click(lambda :gr.Json({'a':[1]}), None, ss, ).then(lambda x:x, gg,gg)\n",
    "    gg.change(lambda :gr.Textbox(value='sdg'), None, cc)\n",
    "hh.launch()"
   ]
  },
  {
   "cell_type": "markdown",
   "metadata": {},
   "source": [
    "###### 创建一个简单的语音输入框架"
   ]
  },
  {
   "cell_type": "code",
   "execution_count": null,
   "metadata": {},
   "outputs": [],
   "source": [
    "import gradio as gr\n",
    "import time\n",
    "import re\n",
    "cache_path = './cache/'\n",
    "#写入文字的同时显示写入的文字---cancel能停止不在运行的函数或者迭代器（比如函数使用yield迭代），不能停止正在进行的函数\n",
    "def t_count(time_sep=1, max_time=10**5):\n",
    "    #默认最大计时间上限\n",
    "    if not max_time:\n",
    "        max_time=10**5\n",
    "    if not time_sep:\n",
    "        time_sep = 1\n",
    "    for ttime in range(1,max_time):\n",
    "        time.sleep(time_sep)\n",
    "        yield(ttime)\n",
    "\n",
    "def fun2(num):\n",
    "\n",
    "    ss = open(cache_path+'try.txt', 'r', encoding='gb18030').read()\n",
    "    return(re.search('.*\\n', ss[num*10:]).group())\n",
    "with gr.Blocks() as hh:\n",
    "    time_count = gr.Number(0)\n",
    "    start_button = gr.Button('start')\n",
    "    # show11 = gr.Number(0)\n",
    "    css = \"\"\"\n",
    "    .textarea {\n",
    "        height: 200px;\n",
    "    }\n",
    "    \"\"\"\n",
    "    ss = gr.Textbox()\n",
    "\n",
    "    ee  =gr.Number()\n",
    "    end_button = gr.Button('end')\n",
    "    tt = start_button.click(t_count, None, time_count)\n",
    "    time_count.change(fun2, time_count, ss)\n",
    "\n",
    "  \n",
    "hh.launch()"
   ]
  }
 ],
 "metadata": {
  "kernelspec": {
   "display_name": "base",
   "language": "python",
   "name": "python3"
  },
  "language_info": {
   "codemirror_mode": {
    "name": "ipython",
    "version": 3
   },
   "file_extension": ".py",
   "mimetype": "text/x-python",
   "name": "python",
   "nbconvert_exporter": "python",
   "pygments_lexer": "ipython3",
   "version": "3.8.19"
  }
 },
 "nbformat": 4,
 "nbformat_minor": 2
}
