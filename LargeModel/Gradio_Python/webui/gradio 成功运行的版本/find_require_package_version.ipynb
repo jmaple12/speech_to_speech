{
 "cells": [
  {
   "cell_type": "code",
   "execution_count": 1,
   "metadata": {},
   "outputs": [
    {
     "data": {
      "text/plain": [
       "666"
      ]
     },
     "execution_count": 1,
     "metadata": {},
     "output_type": "execute_result"
    }
   ],
   "source": [
    "import subprocess\n",
    "import re\n",
    "def pip_show_result(package_name):\n",
    "    '''返回单个package的版本，依赖和被依赖包'''\n",
    "    pip_result = subprocess.run(['cmd', '/c','pip show %s'%package_name], stdout=subprocess.PIPE, stderr=subprocess.PIPE, text=True)\n",
    "    pip_result_out = pip_result.stdout\n",
    "    requires = re.search('\\nRequires.*\\n', pip_result_out).group().strip('\\n')[10:].split(', ')\n",
    "    require_by =re.search(\"Required-by:.*\", pip_result_out).group()[13:].split(', ')\n",
    "    pip_version = re.search('Version.*', pip_result_out).group()[9:]\n",
    "    return(pip_version, requires, require_by)\n",
    "\n",
    "text = \"\"\n",
    "target = 'gradio'\n",
    "pip_version, requires, require_by = pip_show_result(target)\n",
    "text += \"%s == %s\\n\"%(target, pip_version)\n",
    "text += \"\\nRequires:\\n\"\n",
    "for require_package in requires:\n",
    "    text += \"    %s == %s\"%(require_package, pip_show_result(require_package)[0])+'\\n'\n",
    "\n",
    "text += \"\\nRequire-by:\\n\"\n",
    "for require_package in require_by:\n",
    "    text += \"    %s == %s\"%(require_package, pip_show_result(require_package)[0])+'\\n'\n",
    "\n",
    "open('%s_current_packages_version.txt'%target, 'w+').write(text)"
   ]
  }
 ],
 "metadata": {
  "kernelspec": {
   "display_name": "base",
   "language": "python",
   "name": "python3"
  },
  "language_info": {
   "codemirror_mode": {
    "name": "ipython",
    "version": 3
   },
   "file_extension": ".py",
   "mimetype": "text/x-python",
   "name": "python",
   "nbconvert_exporter": "python",
   "pygments_lexer": "ipython3",
   "version": "3.8.19"
  }
 },
 "nbformat": 4,
 "nbformat_minor": 2
}
