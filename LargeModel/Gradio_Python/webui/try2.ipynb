{
 "cells": [
  {
   "cell_type": "code",
   "execution_count": null,
   "metadata": {},
   "outputs": [],
   "source": [
    "txt = \"HELlO, CAN ?YOU!你好,\"\n",
    "txt.lower()\n",
    "import re\n",
    "sign = re.findall('\\W', txt.replace(' ',''))\n",
    "list_words = re.split('['+''.join(sign).replace(' ','')+']', txt)\n",
    "max_len = max(len(sign), len(list_words))\n",
    "sign.extend(['']*(max_len-len(sign)))\n",
    "list_words.extend(['']*(max_len-len(list_words)))\n",
    "txt = ''.join([list_words[i]+sign[i] for i in range(max_len)])"
   ]
  },
  {
   "cell_type": "code",
   "execution_count": 18,
   "metadata": {},
   "outputs": [],
   "source": [
    "import winsound\n",
    "winsound.Beep(500,500)"
   ]
  },
  {
   "cell_type": "code",
   "execution_count": null,
   "metadata": {},
   "outputs": [],
   "source": [
    "import gradio as gr\n",
    "import time\n",
    "def fun1():\n",
    "    for i in range(4):\n",
    "        time.sleep(1)\n",
    "        yield i\n",
    "with gr.Blocks() as hh:\n",
    "    ss = gr.Number(value=1)\n",
    "    sss = gr.Number(value=2)\n",
    "    tt = gr.Button()\n",
    "    ttt = gr.Button()\n",
    "    ss1 = tt.click(fun1, None, ss,queue=True)\n",
    "    ss2 = ss1.then(fun1, None, sss)\n",
    "    ttt.click(None, None, None, cancels=[ss2])\n",
    "hh.launch()"
   ]
  }
 ],
 "metadata": {
  "kernelspec": {
   "display_name": "base",
   "language": "python",
   "name": "python3"
  },
  "language_info": {
   "codemirror_mode": {
    "name": "ipython",
    "version": 3
   },
   "file_extension": ".py",
   "mimetype": "text/x-python",
   "name": "python",
   "nbconvert_exporter": "python",
   "pygments_lexer": "ipython3",
   "version": "3.8.19"
  }
 },
 "nbformat": 4,
 "nbformat_minor": 2
}
