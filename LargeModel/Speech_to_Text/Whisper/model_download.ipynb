{
 "cells": [
  {
   "cell_type": "code",
   "execution_count": null,
   "metadata": {},
   "outputs": [],
   "source": [
    "pip install huggingface_hub"
   ]
  },
  {
   "cell_type": "code",
   "execution_count": null,
   "metadata": {},
   "outputs": [],
   "source": [
    "#huggingface下载\n",
    "from huggingface_hub import snapshot_download\n",
    " \n",
    "# save_dir是模型保存到本地的目录\n",
    "# repo_id是模型在huggingface中的id\n",
    "save_dir=\"E:\\LargeModel\\Speech_to_Text\\Whisper\\Model\\small\"\n",
    "repo_id=\"openai/whisper-small\"\n",
    " \n",
    "snapshot_download(repo_id=repo_id, local_dir=save_dir, local_dir_use_symlinks=False)"
   ]
  },
  {
   "cell_type": "code",
   "execution_count": 15,
   "metadata": {},
   "outputs": [
    {
     "name": "stderr",
     "output_type": "stream",
     "text": [
      "Downloading: 100%|██████████| 33.8k/33.8k [00:00<00:00, 391kB/s]\n",
      "Downloading: 100%|██████████| 1.22k/1.22k [00:00<00:00, 250kB/s]\n",
      "Downloading: 100%|██████████| 56.0/56.0 [00:00<00:00, 14.0kB/s]\n",
      "Downloading:  41%|████      | 2.34G/5.75G [12:44<13:53, 4.39MB/s] 2024-03-03 14:13:08,689 - modelscope - WARNING - Downloading: flax_model.msgpack failed, reason: (\"Connection broken: ConnectionResetError(10054, '远程主机强迫关闭了一个现有的连接。', None, 10054, None)\", ConnectionResetError(10054, '远程主机强迫关闭了一个现有的连接。', None, 10054, None)) will retry\n",
      "Downloading: 100%|█████████▉| 5.75G/5.75G [29:44<00:00, 3.46MB/s]\n",
      "Downloading: 100%|██████████| 3.78k/3.78k [00:00<00:00, 356kB/s]\n",
      "Downloading: 100%|██████████| 482k/482k [00:00<00:00, 1.27MB/s]\n",
      "Downloading: 100%|█████████▉| 4.65G/4.65G [23:33<00:00, 3.53MB/s]\n",
      "Downloading: 100%|█████████▉| 1.10G/1.10G [05:37<00:00, 3.49MB/s]\n",
      "Downloading: 100%|█████████▉| 2.88G/2.88G [15:37<00:00, 3.29MB/s]\n",
      "Downloading: 100%|██████████| 115k/115k [00:00<00:00, 1.14MB/s]\n",
      "Downloading: 100%|██████████| 51.4k/51.4k [00:00<00:00, 760kB/s]\n",
      "Downloading: 100%|██████████| 340/340 [00:00<00:00, 68.0kB/s]\n",
      "Downloading: 100%|█████████▉| 2.88G/2.88G [14:56<00:00, 3.44MB/s]\n",
      "Downloading: 100%|██████████| 115k/115k [00:00<00:00, 472kB/s]\n",
      "Downloading: 100%|█████████▉| 4.65G/4.65G [23:45<00:00, 3.50MB/s] \n",
      "Downloading: 100%|█████████▉| 1.10G/1.10G [05:50<00:00, 3.36MB/s]\n",
      "Downloading: 100%|██████████| 16.5k/16.5k [00:00<00:00, 487kB/s]\n",
      "Downloading: 100%|██████████| 2.02k/2.02k [00:00<00:00, 510kB/s]\n",
      "Downloading: 100%|██████████| 276k/276k [00:00<00:00, 1.32MB/s]\n",
      "Downloading: 100%|██████████| 0.99M/0.99M [00:00<00:00, 1.80MB/s]\n"
     ]
    }
   ],
   "source": [
    "#modelscope模型下载\n",
    "from modelscope import snapshot_download\n",
    "cache_dir = 'E:\\LargeModel\\Speech_to_Text\\Whisper\\Model\\large-v3'\n",
    "model_dir = snapshot_download('mwei23/whisper-large-v3', cache_dir=cache_dir)"
   ]
  }
 ],
 "metadata": {
  "kernelspec": {
   "display_name": "base",
   "language": "python",
   "name": "python3"
  },
  "language_info": {
   "codemirror_mode": {
    "name": "ipython",
    "version": 3
   },
   "file_extension": ".py",
   "mimetype": "text/x-python",
   "name": "python",
   "nbconvert_exporter": "python",
   "pygments_lexer": "ipython3",
   "version": "3.8.18"
  }
 },
 "nbformat": 4,
 "nbformat_minor": 2
}
