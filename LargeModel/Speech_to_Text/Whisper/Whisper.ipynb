{
 "cells": [
  {
   "cell_type": "markdown",
   "metadata": {},
   "source": [
    "cmd：  \n",
    "--git config --global http.sslVerify \"false\"  \n",
    "--pip install git+https://github.com/openai/whisper.git  \n",
    "install scoop:  \n",
    "-- Set-ExecutionPolicy -ExecutionPolicy RemoteSigned -Scope CurrentUser\n",
    "-- Invoke-RestMethod -Uri https://get.scoop.sh | Invoke-Expression\n",
    "-- scoop install ffmpeg\n",
    "--将ffmpeg.exe所在的文件夹添加到系统变量中  \n",
    "--pip install setuptools-rust\n",
    "--pip install -U openai-whisper  \n",
    "\n",
    "Whsper安装介绍：https://github.com/openai/whisper/blob/main/README.md\n",
    "\n",
    "模型位置在C:\\Users\\maple\\.cache\\whisper下面"
   ]
  },
  {
   "cell_type": "code",
   "execution_count": 1,
   "metadata": {},
   "outputs": [],
   "source": [
    "import os\n",
    "import torch\n",
    "import warnings\n",
    "warnings.filterwarnings(\"ignore\")\n",
    "#清理内存\n",
    "os.environ[\"PYTORCH_CUDA_ALLOC_CONF\"] = \"max_split_size_mb:128\"\n",
    "if hasattr(torch.cuda, 'empty_cache'):\n",
    "    torch.cuda.empty_cache()"
   ]
  },
  {
   "cell_type": "code",
   "execution_count": 2,
   "metadata": {},
   "outputs": [],
   "source": [
    "import whisper\n",
    "model_path = 'E:\\LargeModel\\Speech_to_Text\\Whisper\\Model'\n",
    "model= whisper.load_model(name='small', download_root=model_path, device='cuda:0')#device='cuda:0'\n",
    "# model= whisper.load_model(name='large-v3', download_root=model_path, device='cpu')#"
   ]
  },
  {
   "cell_type": "code",
   "execution_count": 3,
   "metadata": {},
   "outputs": [
    {
     "name": "stdout",
     "output_type": "stream",
     "text": [
      "[00:00.000 --> 00:06.000]  In this darkness, I am waiting alone.\n",
      "[00:06.000 --> 00:18.000]  I don't know how long I've been waiting for this. I just know that it's been a long, long time.\n",
      "[00:18.000 --> 00:22.000]  My name is Ji Ru Qian Long.\n",
      "[00:22.000 --> 00:28.000]  Someone told me that this is a name that has been passed down for thousands of years.\n",
      "[00:28.000 --> 00:36.000]  I don't know what this name means, nor what happened long ago.\n",
      "[00:36.000 --> 00:42.000]  For thousands of years, I have already forgotten too many things.\n",
      "[00:42.000 --> 00:48.000]  On my right hand finger, there is a small wound.\n",
      "[00:48.000 --> 00:56.000]  When I hear these music, the wound on my finger will be endless.\n",
      "[00:56.000 --> 01:02.000]  In this wound, I can't walk or disappear.\n",
      "[01:02.000 --> 01:08.000]  It seems that I am the most unwilling to lose the most important thing.\n",
      "[01:08.000 --> 01:14.000]  But I don't remember what it is.\n",
      " In this darkness, I am waiting alone. I don't know how long I've been waiting for this. I just know that it's been a long, long time. My name is Ji Ru Qian Long. Someone told me that this is a name that has been passed down for thousands of years. I don't know what this name means, nor what happened long ago. For thousands of years, I have already forgotten too many things. On my right hand finger, there is a small wound. When I hear these music, the wound on my finger will be endless. In this wound, I can't walk or disappear. It seems that I am the most unwilling to lose the most important thing. But I don't remember what it is.\n"
     ]
    }
   ],
   "source": [
    "file_path=r\"E:\\LargeModel\\Speech_Synthesis\\GPT_SOVITS_0训练集\\自己的模型\\姬如千泷\\素材\\人声.wav\"\n",
    "initial_prompt = '下面是一段普通话。'#promot带标点符号时，转写的结果也会带标点符号。\n",
    "result = model.transcribe(\n",
    "    audio= file_path, \n",
    "    word_timestamps=False,\n",
    "    verbose=True,\n",
    "    initial_prompt=initial_prompt, \n",
    "    language='Chinese', \n",
    "    no_speech_threshold=0.4,#无声识别的阈值，默认是0.6, 非英文音频调低\n",
    "    # logprob_threshold=None, #转录频次阙值，default=-1\n",
    "    compression_ratio_threshold=2.2, #压缩比阙值，default:2.4\n",
    "    task='translate', #transcribe（语音转录默认）和 translate（翻译为英文）\n",
    "    )\n",
    "print(result[\"text\"])"
   ]
  },
  {
   "cell_type": "code",
   "execution_count": 4,
   "metadata": {},
   "outputs": [],
   "source": [
    "#result:月儿一分钟的话,large_v3\n",
    "#cuda:7min:37s\n",
    "#cpu:3min:25秒\n",
    "\n",
    "#small:很快,5s多，"
   ]
  }
 ],
 "metadata": {
  "kernelspec": {
   "display_name": "base",
   "language": "python",
   "name": "python3"
  },
  "language_info": {
   "codemirror_mode": {
    "name": "ipython",
    "version": 3
   },
   "file_extension": ".py",
   "mimetype": "text/x-python",
   "name": "python",
   "nbconvert_exporter": "python",
   "pygments_lexer": "ipython3",
   "version": "3.8.19"
  }
 },
 "nbformat": 4,
 "nbformat_minor": 2
}
