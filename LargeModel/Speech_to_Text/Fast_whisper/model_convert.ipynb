{
 "cells": [
  {
   "cell_type": "code",
   "execution_count": 3,
   "metadata": {},
   "outputs": [
    {
     "data": {
      "text/plain": [
       "'E:\\\\LargeModel\\\\Speech_to_Text\\\\fast_whisper\\\\small'"
      ]
     },
     "execution_count": 3,
     "metadata": {},
     "output_type": "execute_result"
    }
   ],
   "source": [
    "from ctranslate2.converters import TransformersConverter\n",
    "\n",
    "model_name_or_path= 'E:\\LargeModel\\Speech_to_Text\\Whisper\\Model\\small'\n",
    "out_dir = r'E:\\LargeModel\\Speech_to_Text\\fast_whisper\\small'\n",
    "tfc = TransformersConverter(model_name_or_path= model_name_or_path)\n",
    "tfc.convert(output_dir=out_dir,quantization='float32')"
   ]
  }
 ],
 "metadata": {
  "kernelspec": {
   "display_name": "base",
   "language": "python",
   "name": "python3"
  },
  "language_info": {
   "codemirror_mode": {
    "name": "ipython",
    "version": 3
   },
   "file_extension": ".py",
   "mimetype": "text/x-python",
   "name": "python",
   "nbconvert_exporter": "python",
   "pygments_lexer": "ipython3",
   "version": "3.8.18"
  }
 },
 "nbformat": 4,
 "nbformat_minor": 2
}
