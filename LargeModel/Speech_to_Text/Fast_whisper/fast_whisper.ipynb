{
 "cells": [
  {
   "cell_type": "code",
   "execution_count": 1,
   "metadata": {},
   "outputs": [],
   "source": [
    "import os\n",
    "os.environ['HF_ENDPOINT']='hf-mirror.com'\n",
    "# cmd:set HF_ENDPOINT=https://hf-mirror.com\n",
    "import torch\n",
    "import sys\n",
    "import time\n",
    "import warnings\n",
    "warnings.filterwarnings(\"ignore\")\n",
    "#清理内存\n",
    "os.environ[\"PYTORCH_CUDA_ALLOC_CONF\"] = \"max_split_size_mb:128\"\n",
    "if hasattr(torch.cuda, 'empty_cache'):\n",
    "    torch.cuda.empty_cache()"
   ]
  },
  {
   "cell_type": "code",
   "execution_count": 2,
   "metadata": {},
   "outputs": [],
   "source": [
    "from faster_whisper import WhisperModel\n",
    "# model_size = \"small\"\n",
    "# model_size = \"medium\"\n",
    "#前两个很糟糕\n",
    "model_size='large-v3'\n",
    "download_root=r'E:\\LargeModel\\Speech_to_Text\\fast_whisper'\n",
    "# download_root = r'E:\\LargeModel\\Speech_to_Text\\fast_whisper\\models--Systran--faster-whisper-large-v3\\snapshots'\n",
    "model = WhisperModel(download_root+'\\\\'+model_size, device=\"cuda\", compute_type=\"int8_float16\", download_root=download_root, local_files_only=False)"
   ]
  },
  {
   "cell_type": "code",
   "execution_count": 3,
   "metadata": {},
   "outputs": [],
   "source": [
    "## 在输入音频的文件位置生成一个同名的字幕文件\n",
    "input_audio = r\"D:\\Desktop\\vocal_raion_final_travel.wav\""
   ]
  },
  {
   "cell_type": "code",
   "execution_count": 4,
   "metadata": {},
   "outputs": [],
   "source": [
    "def time_convert(tsecond):\n",
    "    '''\n",
    "    将秒转为时:分:秒,毫秒的形式\n",
    "    '''\n",
    "    ms = tsecond-int(tsecond)\n",
    "    tsecond = int(tsecond)\n",
    "    hour = tsecond//3600\n",
    "    minute = tsecond%3600//60\n",
    "    second = tsecond%60\n",
    "    return(str(hour).rjust(2,'0')+':'+str(minute).rjust(2,'0')+':'+str(second).rjust(2,'0')+','+str(round(ms*1000)))"
   ]
  },
  {
   "cell_type": "code",
   "execution_count": 5,
   "metadata": {},
   "outputs": [],
   "source": [
    "#jupyter死机的原因是D:\\Anaconda\\Library 中有一个libiomp5md.dl，与其他地方的同一个文件冲突\n",
    "initial_prompt=None\n",
    "segments, info = model.transcribe(input_audio, initial_prompt=initial_prompt, word_timestamps=True)\n",
    "# segments = ','.join([segment.text for segment in segments])\n",
    "num=1\n",
    "# 在输入音频的文件位置生成一个同名的字幕文件\n",
    "srt_file = '.'.join(input_audio.split('.')[:-1])+'.srt'\n",
    "\n",
    "sys.stdout = open(srt_file, 'w')\n",
    "for segment in segments:\n",
    "        # print(\"[%.2fs -> %.2fs] %s\" % (segment.start, segment.end, segment.text))\n",
    "        print(\"%d\\n%s --> %s\\n%s\" % (num, time_convert(segment.start), time_convert(segment.end), segment.text))\n",
    "        num +=1"
   ]
  }
 ],
 "metadata": {
  "kernelspec": {
   "display_name": "base",
   "language": "python",
   "name": "python3"
  },
  "language_info": {
   "codemirror_mode": {
    "name": "ipython",
    "version": 3
   },
   "file_extension": ".py",
   "mimetype": "text/x-python",
   "name": "python",
   "nbconvert_exporter": "python",
   "pygments_lexer": "ipython3",
   "version": "3.8.18"
  }
 },
 "nbformat": 4,
 "nbformat_minor": 2
}
