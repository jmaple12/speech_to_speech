{
 "cells": [
  {
   "cell_type": "markdown",
   "metadata": {},
   "source": [
    "#### 实时太慢了--延时太高了"
   ]
  },
  {
   "cell_type": "code",
   "execution_count": 1,
   "metadata": {},
   "outputs": [],
   "source": [
    "import os\n",
    "os.environ['HF_ENDPOINT']='hf-mirror.com'\n",
    "# cmd:set HF_ENDPOINT=https://hf-mirror.com\n",
    "import torch\n",
    "import sys\n",
    "import re\n",
    "import warnings\n",
    "warnings.filterwarnings(\"ignore\")\n",
    "#清理内存\n",
    "os.environ[\"PYTORCH_CUDA_ALLOC_CONF\"] = \"max_split_size_mb:128\"\n",
    "if hasattr(torch.cuda, 'empty_cache'):\n",
    "    torch.cuda.empty_cache()\n",
    "del torch"
   ]
  },
  {
   "cell_type": "code",
   "execution_count": 2,
   "metadata": {},
   "outputs": [],
   "source": [
    "#还不能做到实时转录:small版本差不多可以\n",
    "from Fast_whisper import fast_whisper_realtime\n",
    "from faster_whisper import WhisperModel\n",
    "model_size='large-v3'\n",
    "model_size='small'\n",
    "download_root=r'E:\\LargeModel\\Speech_to_Text\\fast_whisper'\n",
    "#当download_root与模型在同一个目录时候\n",
    "model = WhisperModel(download_root+'\\\\'+model_size, device=\"cuda\",compute_type=\"float16\", download_root=download_root, local_files_only=False)"
   ]
  },
  {
   "cell_type": "code",
   "execution_count": 4,
   "metadata": {},
   "outputs": [
    {
     "name": "stdout",
     "output_type": "stream",
     "text": [
      "用户:                  Hello.你能听到我说话吗哦,原来你都可以听到我说话了 So, that's the end of this video. Thanks for watching and I'll see you in the next one.前面与后面巨大的反差,前面战友们从容到面对死亡,好友们收紧折磨 生不如死,后面一片玄河安静,但那是别人的安静当然还有一大堆投机分子,他们参加签到头颅上,好起钱的热血,享受着自己的欢乐。其生不如死的折磨 坏来的果实它是共和國普通一份子,共和國監禁的一顆釘子。,它是為了同樣出生的工人們,以及收緊著我們的奴隸過上一邊,同樣的日子為目標。他會憎恨那些彼氏無參者的大官嫌貴,,所有人都應該一樣吃苦奮鬥。,這不是那些一生立即的人可以做到的,,用榮華貴的生活來了就回不去了。,那些彼氏工人的小資,,就像看待下等人一樣,,就像看待失敗者一樣,,就如是看待被...\n",
      "  \n",
      "  Hello.你能听到我说话吗哦,原来你都可以听到我说话了 So, that's the end of this video. Thanks for watching and I'll see you in the next one.前面与后面巨大的反差,前面战友们从容到面对死亡,好友们收紧折磨 生不如死,后面一片玄河安静,但那是别人的安静当然还有一大堆投机分子,他们参加签到头颅上,好起钱的热血,享受着自己的欢乐。其生不如死的折磨 坏来的果实它是共和國普通一份子,共和國監禁的一顆釘子。,它是為了同樣出生的工人們,以及收緊著我們的奴隸過上一邊,同樣的日子為目標。他會憎恨那些彼氏無參者的大官嫌貴,,所有人都應該一樣吃苦奮鬥。,這不是那些一生立即的人可以做到的,,用榮華貴的生活來了就回不去了。,那些彼氏工人的小資,,就像看待下等人一樣,,就像看待失敗者一樣,,就如是看待被...\n"
     ]
    }
   ],
   "source": [
    "#输入参数\n",
    "#说话间隔小于delaytime视为两句话；当空白时长超过tendure时候退出录音和转写\n",
    "delayTime=0.8\n",
    "tendure=4\n",
    "mindb = 2000\n",
    "transcribe_params = {\n",
    "        # 'language':'zh',\n",
    "        'beam_size':10,\n",
    "        'repetition_penalty':1.1,\n",
    "        'no_speech_threshold':0.5,#无声识别的阈值，默认是0.6, 非英文音频调低\n",
    "        # logprob_threshold=None, #转录频次阙值，default=-1\n",
    "        'compression_ratio_threshold':2.2, #压缩比阙值，default:2.4\n",
    "        }\n",
    "#文件夹名称\n",
    "audio_file_path = 'out_auio'\n",
    "last_voice, tol_voice=fast_whisper_realtime(audio_file_path, model, delayTime, tendure, mindb, transcribe_params)\n",
    "print('\\n',last_voice, '\\n', tol_voice)"
   ]
  },
  {
   "cell_type": "code",
   "execution_count": null,
   "metadata": {},
   "outputs": [],
   "source": []
  }
 ],
 "metadata": {
  "kernelspec": {
   "display_name": "base",
   "language": "python",
   "name": "python3"
  },
  "language_info": {
   "codemirror_mode": {
    "name": "ipython",
    "version": 3
   },
   "file_extension": ".py",
   "mimetype": "text/x-python",
   "name": "python",
   "nbconvert_exporter": "python",
   "pygments_lexer": "ipython3",
   "version": "3.8.19"
  }
 },
 "nbformat": 4,
 "nbformat_minor": 2
}
