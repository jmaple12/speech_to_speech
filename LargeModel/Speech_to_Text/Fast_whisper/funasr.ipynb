{
 "cells": [
  {
   "cell_type": "code",
   "execution_count": null,
   "metadata": {},
   "outputs": [],
   "source": [
    "from modelscope.pipelines import pipeline\n",
    "from modelscope.utils.constant import Tasks\n",
    "import sys\n",
    "\n",
    "audio_in = 'D:\\Desktop\\mda-nchhbsvnaq04v5gt.wav'\n",
    "output_dir = \"./results\"\n",
    "inference_pipeline = pipeline(\n",
    "    task=Tasks.auto_speech_recognition,\n",
    "    model=r\"E:\\LargeModel\\Speech_to_Text\\Funasr\\iic\\speech_paraformer-large-vad-punc-spk_asr_nat-zh-cn\",\n",
    "    model_revision='v2.0.4',\n",
    "    vad_model=r\"E:\\LargeModel\\Speech_to_Text\\Funasr\\iic\\speech_fsmn_vad_zh-cn-16k-common-pytorch\", vad_model_revision=\"v2.0.4\",\n",
    "    punc_model=r\"E:\\LargeModel\\Speech_to_Text\\Funasr\\iic\\punc_ct-transformer_cn-en-common-vocab471067-large\", punc_model_revision=\"v2.0.4\",\n",
    "    output_dir=output_dir,\n",
    ")"
   ]
  },
  {
   "cell_type": "code",
   "execution_count": null,
   "metadata": {},
   "outputs": [],
   "source": [
    "rec_result = inference_pipeline(audio_in, batch_size_s=300, batch_size_token_threshold_s=40)\n",
    "# print(rec_result)"
   ]
  },
  {
   "cell_type": "code",
   "execution_count": null,
   "metadata": {},
   "outputs": [],
   "source": [
    "def time_convert(tsecond):\n",
    "    '''\n",
    "    将秒转为时:分:秒,毫秒的形式\n",
    "    '''\n",
    "    ms = tsecond-int(tsecond)\n",
    "    tsecond = int(tsecond)\n",
    "    hour = tsecond//3600\n",
    "    minute = tsecond%3600//60\n",
    "    second = tsecond%60\n",
    "    return(str(hour).rjust(2,'0')+':'+str(minute).rjust(2,'0')+':'+str(second).rjust(2,'0')+','+str(round(ms*1000)))"
   ]
  },
  {
   "cell_type": "code",
   "execution_count": null,
   "metadata": {},
   "outputs": [],
   "source": [
    "import sys\n",
    "num=1\n",
    "# 在输入音频的文件位置生成一个同名的字幕文件\n",
    "srt_file = '.'.join(audio_in.split('.')[:-1])+'.srt'\n",
    "orign = sys.stdout \n",
    "sys.stdout = open(srt_file, 'w')\n",
    "for content in rec_result[0]['sentence_info']:\n",
    "    text = content['text']\n",
    "    start = content['start']/1000\n",
    "    end=content['end']/1000\n",
    "    spk = content['spk']\n",
    "    print(\"%d\\n%s --> %s\\n%s [%s]\" % (num, time_convert(start), time_convert(end), text, 'S'+str(spk)))\n",
    "    num+=1\n",
    "sys.stdout = orign "
   ]
  }
 ],
 "metadata": {
  "kernelspec": {
   "display_name": "base",
   "language": "python",
   "name": "python3"
  },
  "language_info": {
   "codemirror_mode": {
    "name": "ipython",
    "version": 3
   },
   "file_extension": ".py",
   "mimetype": "text/x-python",
   "name": "python",
   "nbconvert_exporter": "python",
   "pygments_lexer": "ipython3",
   "version": "3.8.18"
  }
 },
 "nbformat": 4,
 "nbformat_minor": 2
}
