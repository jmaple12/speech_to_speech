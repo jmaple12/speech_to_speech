{
 "cells": [
  {
   "cell_type": "code",
   "execution_count": 4,
   "metadata": {},
   "outputs": [
    {
     "name": "stdout",
     "output_type": "stream",
     "text": [
      "id = HKEY_LOCAL_MACHINE\\SOFTWARE\\Microsoft\\Speech\\Voices\\Tokens\\TTS_MS_ZH-CN_HUIHUI_11.0 \n",
      "name = Microsoft Huihui Desktop - Chinese (Simplified) \n",
      "\n",
      "id = HKEY_LOCAL_MACHINE\\SOFTWARE\\Microsoft\\Speech\\Voices\\Tokens\\TTS_MS_EN-US_ZIRA_11.0 \n",
      "name = Microsoft Zira Desktop - English (United States) \n",
      "\n",
      "id = HKEY_LOCAL_MACHINE\\SOFTWARE\\Microsoft\\Speech\\Voices\\Tokens\\TTS_MS_EN-US_DAVID_11.0 \n",
      "name = Microsoft David Desktop - English (United States) \n",
      "\n"
     ]
    }
   ],
   "source": [
    "import pyttsx3\n",
    "engine = pyttsx3.init()   # 初始化\n",
    "voices = engine.getProperty('voices')\n",
    "for voice in voices:\n",
    "    print ('id = {} \\nname = {} \\n'.format(voice.id, voice.name))\n",
    "engine.setProperty('voice', voices[0].id)  #设置发音人\n",
    "\n",
    "engine.say(\"1. 打开窗户或门，让冷空气进入房间。\")\n",
    "engine.say(\"As a large language model, I do not have feelings or experiences in the same way that humans do. I am a computational system designed to assist with information and language tasks.\\n\\nI am functioning well and am able to access and process vast amounts of information. I am constantly learning and improving based on the data I am trained on.\\n\\nWhat can I do for you today?\")\n",
    "\n",
    "engine.runAndWait()\n",
    "engine.stop()"
   ]
  },
  {
   "cell_type": "code",
   "execution_count": 1,
   "metadata": {},
   "outputs": [
    {
     "name": "stdout",
     "output_type": "stream",
     "text": [
      "200 1.0\n"
     ]
    }
   ],
   "source": [
    "import pyttsx3\n",
    "#参数参考了https://blog.csdn.net/cui_yonghua/article/details/134611001\n",
    "engine = pyttsx3.init() # object creation\n",
    "\n",
    "#记录当前语音的速率，音量和音色\n",
    "(r,ve,vs) = (engine.getProperty('rate'),engine.getProperty('volume'), engine.getProperty('voices'))\n",
    "print(r,ve)\n",
    "def text_voice(engine, rate=-1, volume=-1, voice=-1):\n",
    "    '''\n",
    "    三个参数：\n",
    "    rate:速率\n",
    "    volume:音量，【0,1】\n",
    "    voice:声音，0为男声，1为女声\n",
    "    '''\n",
    "    if rate!=-1:\n",
    "        engine.setProperty('rate', rate)\n",
    "    if volume!=-1:\n",
    "        engine.setProperty('volume',volume)\n",
    "    if voice!=-1:\n",
    "        voices = engine.getProperty('voices')       \n",
    "        engine.setProperty('voice', voices[voice].id)\n",
    "    return engine\n",
    "    \n",
    "engine = text_voice(engine,rate=130)\n",
    "\n",
    "engine.say(\"1. 打开窗户或门，让冷空气进入房间。\")\n",
    "engine.say(\"As a large language model, I do not have feelings or experiences in the same way that humans do. I am a computational system designed to assist with information and language tasks.\\n\\nI am functioning well and am able to access and process vast amounts of information. I am constantly learning and improving based on the data I am trained on.\\n\\nWhat can I do for you today?\")\n",
    "engine.runAndWait()\n",
    "engine.stop()\n",
    "\n",
    "\"\"\"Saving Voice to a file\"\"\"\n",
    "engine.save_to_file(\"Hello World!我叫金伍珑,今天也是美好的一天呢！\", 'test.mp3')\n",
    "engine.runAndWait()\n",
    "engine.stop()"
   ]
  }
 ],
 "metadata": {
  "kernelspec": {
   "display_name": "base",
   "language": "python",
   "name": "python3"
  },
  "language_info": {
   "codemirror_mode": {
    "name": "ipython",
    "version": 3
   },
   "file_extension": ".py",
   "mimetype": "text/x-python",
   "name": "python",
   "nbconvert_exporter": "python",
   "pygments_lexer": "ipython3",
   "version": "3.8.18"
  }
 },
 "nbformat": 4,
 "nbformat_minor": 2
}
