{
 "cells": [
  {
   "cell_type": "markdown",
   "metadata": {},
   "source": [
    "### 方法一：函数调用"
   ]
  },
  {
   "cell_type": "code",
   "execution_count": null,
   "metadata": {},
   "outputs": [],
   "source": [
    "import sys\n",
    "import pyaudio\n",
    "sys.path.insert(0, 'GPT-SoVITS-beta\\GPT-SoVITS-beta0306\\GPT_SoVITS')\n",
    "from inference_maple import handle\n",
    "import warnings\n",
    "warnings.filterwarnings(\"ignore\")\n",
    "import sys"
   ]
  },
  {
   "cell_type": "code",
   "execution_count": null,
   "metadata": {},
   "outputs": [],
   "source": [
    "text = '''在社会发展过程中，科技与社会总是相互作用、相互交织。科技有其优越性，但依然不足以让社会听命于它；社会也有一些优先性，但不足以完全束缚科学的自由性。\n",
    "'''"
   ]
  },
  {
   "cell_type": "code",
   "execution_count": null,
   "metadata": {},
   "outputs": [],
   "source": [
    "#语音合成模型初始化\n",
    "ref_wav_path=\"E:\\LargeModel\\Speech_Synthesis\\GPT_Sovits\\GPT-SoVITS-beta\\派蒙--官方给的\\参考音频\\说话—既然罗莎莉亚说足迹上有元素力，用元素视野应该能很清楚地看到吧。.wav\"\n",
    "prompt_text= '既然罗莎莉亚说足迹上有元素力，用元素视野应该能很清楚地看到吧。'\n",
    "prompt_language='zh'\n",
    "text=text#'你好呀！'\n",
    "text_language='zh'\n",
    "ref_free=False\n",
    "stream=False\n",
    "start=False\n",
    "top_k=5\n",
    "top_p=1\n",
    "temperature=1\n",
    "sovits_path = r\"E:\\LargeModel\\Speech_Synthesis\\GPT_Sovits\\GPT-SoVITS-beta\\GPT-SoVITS-beta0306\\GPT_SoVITS\\pretrained_models\\s2G488k.pth\"\n",
    "gpt_path = r\"E:\\LargeModel\\Speech_Synthesis\\GPT_Sovits\\GPT-SoVITS-beta\\GPT-SoVITS-beta0306\\GPT_SoVITS\\pretrained_models\\s1bert25hz-2kh-longer-epoch=68e-step=50232.ckpt\"\n",
    "\n",
    "#音频直接播放\n",
    "if not stream:\n",
    "    handle(ref_wav_path, prompt_text, prompt_language, text, text_language, sovits_path, gpt_path, start=start, top_k=top_k, top_p=top_p,temperature=temperature, ref_free = ref_free, stream=False)\n",
    "    #流式音频---输出快了一些，但是中间有停顿\n",
    "else:\n",
    "    handle(ref_wav_path, prompt_text, prompt_language, text, text_language, sovits_path, gpt_path, start=start, top_k=top_k, top_p=top_p,temperature=temperature, ref_free = ref_free, stream=True)\n",
    "#10min40s"
   ]
  },
  {
   "cell_type": "markdown",
   "metadata": {},
   "source": [
    "### 方法二，API调用--推理0306包"
   ]
  },
  {
   "cell_type": "code",
   "execution_count": null,
   "metadata": {},
   "outputs": [],
   "source": [
    "import requests\n",
    "import winsound\n",
    "import os\n",
    "import sys\n",
    "text = \"在社会发展过程中，科技与社会总是相互作用、相互交织。\"\n",
    "text2 = \"The authors are grateful to the referees for valuable suggestions to improve the article. \"\n",
    "\n",
    "#先双击\"E:\\LargeModel\\Speech_Synthesis\\GPT_Sovits\\GPT-SoVITS-beta\\GPT-SoVITS-beta0306\\api.bat\":他的内容是runtime\\python.exe api.py pause\n",
    "#首次加载很慢\n",
    "\n",
    "#推理的web界面的怎么切，top_k， top_p,temperature参数在 inference_webui.py 的get_tts_wav函数中修改默认值。\n",
    "import requests\n",
    "import winsound\n",
    "url = 'http://127.0.0.1:9880'\n",
    "params = {\n",
    "    'refer_wav_path':\"E:\\LargeModel\\Speech_Synthesis\\GPT_Sovits\\GPT-SoVITS-beta\\派蒙--官方给的\\参考音频\\说话—既然罗莎莉亚说足迹上有元素力，用元素视野应该能很清楚地看到吧。.wav\",\n",
    "    'prompt_text': '既然罗莎莉亚说足迹上有元素力，用元素视野应该能很清楚地看到吧。',\n",
    "    'prompt_language':'zh',\n",
    "    'text':text,\n",
    "    'text_language':'zh'\n",
    "}\n",
    "\n",
    "response = requests.get(url, params)\n",
    "# response.url #点击可以直接看到音频\n",
    "# response.headers\n",
    "# response.content #网页返回的内容，是音频的16进制文件\n",
    "\n",
    "#播放音频\n",
    "winsound.PlaySound(response.content, winsound.SND_MEMORY)"
   ]
  },
  {
   "cell_type": "code",
   "execution_count": null,
   "metadata": {},
   "outputs": [],
   "source": [
    "#下载音频----来自文心一言\n",
    "import wave  \n",
    "# WAV 文件参数  \n",
    "nchannels = 1  # 声道数，单声道为 1，立体声为 2  \n",
    "sampwidth = 2  # 样本宽度（字节），对于 16 位音频为 2  \n",
    "framerate = 32000  # 采样率  \n",
    "nframes = len(response.content) // sampwidth  # 总帧数，根据样本宽度和字节流长度计算  \n",
    "  \n",
    "# 创建 WAV 文件对象  \n",
    "with wave.open(\"output.wav\", \"wb\") as wav_file:  \n",
    "    # 设置 WAV 文件参数  \n",
    "    wav_file.setnchannels(nchannels)  \n",
    "    wav_file.setsampwidth(sampwidth)  \n",
    "    wav_file.setframerate(framerate)  \n",
    " \n",
    "    # 写入文件头  \n",
    "    wav_file.writeframes(b'')  # 写入空字节以生成文件头    \n",
    "    # 写入音频数据  \n",
    "    wav_file.writeframes(response.content)"
   ]
  }
 ],
 "metadata": {
  "kernelspec": {
   "display_name": "base",
   "language": "python",
   "name": "python3"
  },
  "language_info": {
   "codemirror_mode": {
    "name": "ipython",
    "version": 3
   },
   "file_extension": ".py",
   "mimetype": "text/x-python",
   "name": "python",
   "nbconvert_exporter": "python",
   "pygments_lexer": "ipython3",
   "version": "3.8.18"
  }
 },
 "nbformat": 4,
 "nbformat_minor": 2
}
