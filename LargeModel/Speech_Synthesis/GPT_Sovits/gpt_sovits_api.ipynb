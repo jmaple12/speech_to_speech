{
 "cells": [
  {
   "cell_type": "markdown",
   "metadata": {},
   "source": [
    "### 方法一：函数调用"
   ]
  },
  {
   "cell_type": "code",
   "execution_count": null,
   "metadata": {},
   "outputs": [],
   "source": [
    "import sys\n",
    "import pyaudio\n",
    "import torch\n",
    "import winsound\n",
    "from io import BytesIO\n",
    "import soundfile as sf\n",
    "import warnings\n",
    "warnings.filterwarnings(\"ignore\")"
   ]
  },
  {
   "cell_type": "code",
   "execution_count": null,
   "metadata": {},
   "outputs": [],
   "source": [
    "#选择运行哪一个版本\n",
    "version_choose = '0306fix' \n",
    "version_choose = 'fast_inference'\n",
    "\n",
    "if version_choose == 'fast_inference' :\n",
    "    sys.path.insert(0, 'GPT-SoVITS-beta\\GPT-SoVITS-beta_fast_inference_0316\\GPT_SoVITS')\n",
    "    from inference_webui_fast_inference_maple import handle\n",
    "\n",
    "elif version_choose == '0306fix':\n",
    "    sys.path.insert(0, 'GPT-SoVITS-beta\\GPT-SoVITS-beta_fast_inference_0316\\GPT_SoVITS')\n",
    "    from inference_maple import handle"
   ]
  },
  {
   "cell_type": "code",
   "execution_count": null,
   "metadata": {},
   "outputs": [],
   "source": [
    "text = '''可以是不完美的，你一是不有我的知头，你就看向我，你种倒影着夏夜绚烂的眼眶，会热的吸引，竟让看水被心化，你的存在治愈我也慢的沉埃\n",
    "'''"
   ]
  },
  {
   "cell_type": "code",
   "execution_count": null,
   "metadata": {},
   "outputs": [],
   "source": [
    "#语音合成模型初始化\n",
    "ref_wav_path=\"E:\\LargeModel\\Speech_Synthesis\\GPT_Sovits\\GPT-SoVITS-beta\\派蒙--官方给的\\参考音频\\说话—既然罗莎莉亚说足迹上有元素力，用元素视野应该能很清楚地看到吧。.wav\"\n",
    "prompt_text= '既然罗莎莉亚说足迹上有元素力，用元素视野应该能很清楚地看到吧。'\n",
    "prompt_language='zh'\n",
    "text=text#'你好呀！'\n",
    "text_language='zh'\n",
    "ref_free=False\n",
    "start=False\n",
    "top_k=5\n",
    "top_p=1\n",
    "temperature=1\n",
    "# how_to_cut='凑四句一切'\n",
    "how_to_cut='按标点符号切'\n",
    "\n",
    "#0306fix版本有流式输出，输出快了一些，但是中间有停顿\n",
    "stream=True\n",
    "audio_save=False\n",
    "audio_save_file='./output.wav'\n",
    "\n",
    "sovits_path = r\"E:\\LargeModel\\Speech_Synthesis\\GPT_Sovits\\GPT-SoVITS-beta\\GPT-SoVITS-beta_fast_inference_0316\\GPT_SoVITS\\pretrained_models\\s2G488k.pth\"\n",
    "\n",
    "gpt_path = r\"E:\\LargeModel\\Speech_Synthesis\\GPT_Sovits\\GPT-SoVITS-beta\\GPT-SoVITS-beta_fast_inference_0316\\GPT_SoVITS\\pretrained_models\\s1bert25hz-2kh-longer-epoch=68e-step=50232.ckpt\"\n",
    "\n",
    "audio_save=False\n",
    "audio_save_file='output.wav'\n",
    "#---------------------------------------------------#\n",
    "text_language2='中英混合'\n",
    "prompt_language2='中英混合'\n",
    "batch_size=6         # int. batch size for inference\n",
    "split_bucket=True   # bool. whether to split the batch into multiple buckets.\n",
    "speed_factor=1.0\n",
    "ref_text_free=False\n",
    "\n",
    "if version_choose == 'fast_inference':\n",
    "    params={'text':text, 'text_lang':text_language2, \n",
    "              'ref_audio_path':ref_wav_path, 'prompt_text':prompt_text, \n",
    "              'prompt_lang':prompt_language2, 'top_k':top_k, \n",
    "              'top_p':top_p, 'temperature':temperature, \n",
    "              'text_split_method':how_to_cut, 'batch_size':batch_size, \n",
    "              'speed_factor':speed_factor, 'ref_text_free':ref_text_free,\n",
    "              'split_bucket':split_bucket, 'audio_save':audio_save, \n",
    "              'audio_save_file':audio_save_file, 'mygpt_path':gpt_path, 'mysovits_path':sovits_path}\n",
    "    \n",
    "elif version_choose == '0306fix':\n",
    "    params = {'ref_wav_path':ref_wav_path, 'prompt_text':prompt_text, 'prompt_language':prompt_language, 'text':text, 'text_language':text_language, 'sovits_path':sovits_path, 'gpt_path':gpt_path, 'start':start, 'top_k':top_k, 'top_p':top_p, 'temperature':temperature, 'how_to_cut':how_to_cut, 'ref_free':ref_free, 'stream':stream, 'audio_save':audio_save, 'audio_save_file':audio_save_file}\n",
    "\n",
    "handle(**params)"
   ]
  },
  {
   "cell_type": "markdown",
   "metadata": {},
   "source": [
    "### 方法二，API调用--推理0306fix包"
   ]
  },
  {
   "cell_type": "code",
   "execution_count": null,
   "metadata": {},
   "outputs": [],
   "source": [
    "import requests\n",
    "import winsound\n",
    "import os\n",
    "import sys\n",
    "text = \"在社会发展过程中，科技与社会总是相互作用、相互交织。\"\n",
    "text2 = \"The authors are grateful to the referees for valuable suggestions to improve the article. \"\n",
    "\n",
    "#先双击\"E:\\LargeModel\\Speech_Synthesis\\GPT_Sovits\\GPT-SoVITS-beta\\GPT-SoVITS-beta0306\\api.bat\":他的内容是runtime\\python.exe api.py pause\n",
    "#首次加载很慢\n",
    "\n",
    "#推理的web界面的怎么切，top_k， top_p,temperature参数在 inference_webui.py 的get_tts_wav函数中修改默认值。\n",
    "import requests\n",
    "import winsound\n",
    "url = 'http://127.0.0.1:9880'\n",
    "params = {\n",
    "    'refer_wav_path':\"E:\\LargeModel\\Speech_Synthesis\\GPT_Sovits\\GPT-SoVITS-beta\\派蒙--官方给的\\参考音频\\说话—既然罗莎莉亚说足迹上有元素力，用元素视野应该能很清楚地看到吧。.wav\",\n",
    "    'prompt_text': '既然罗莎莉亚说足迹上有元素力，用元素视野应该能很清楚地看到吧。',\n",
    "    'prompt_language':'zh',\n",
    "    'text':text,\n",
    "    'text_language':'zh'\n",
    "}\n",
    "\n",
    "response = requests.get(url, params)\n",
    "# response.url #点击可以直接看到音频\n",
    "# response.headers\n",
    "# response.content #网页返回的内容，是音频的16进制文件\n",
    "\n",
    "#播放音频\n",
    "winsound.PlaySound(response.content, winsound.SND_MEMORY)"
   ]
  },
  {
   "cell_type": "code",
   "execution_count": null,
   "metadata": {},
   "outputs": [],
   "source": [
    "#下载音频----来自文心一言\n",
    "import wave  \n",
    "# WAV 文件参数  \n",
    "nchannels = 1  # 声道数，单声道为 1，立体声为 2  \n",
    "sampwidth = 2  # 样本宽度（字节），对于 16 位音频为 2  \n",
    "framerate = 32000  # 采样率  \n",
    "nframes = len(response.content) // sampwidth  # 总帧数，根据样本宽度和字节流长度计算  \n",
    "  \n",
    "# 创建 WAV 文件对象  \n",
    "with wave.open(\"output.wav\", \"wb\") as wav_file:  \n",
    "    # 设置 WAV 文件参数  \n",
    "    wav_file.setnchannels(nchannels)  \n",
    "    wav_file.setsampwidth(sampwidth)  \n",
    "    wav_file.setframerate(framerate)  \n",
    " \n",
    "    # 写入文件头  \n",
    "    wav_file.writeframes(b'')  # 写入空字节以生成文件头    \n",
    "    # 写入音频数据  \n",
    "    wav_file.writeframes(response.content)"
   ]
  }
 ],
 "metadata": {
  "kernelspec": {
   "display_name": "base",
   "language": "python",
   "name": "python3"
  },
  "language_info": {
   "codemirror_mode": {
    "name": "ipython",
    "version": 3
   },
   "file_extension": ".py",
   "mimetype": "text/x-python",
   "name": "python",
   "nbconvert_exporter": "python",
   "pygments_lexer": "ipython3",
   "version": "3.8.18"
  }
 },
 "nbformat": 4,
 "nbformat_minor": 2
}
