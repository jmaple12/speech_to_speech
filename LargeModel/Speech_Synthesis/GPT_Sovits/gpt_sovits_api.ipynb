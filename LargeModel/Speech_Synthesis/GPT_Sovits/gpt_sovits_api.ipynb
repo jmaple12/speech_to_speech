{
 "cells": [
  {
   "cell_type": "markdown",
   "metadata": {},
   "source": [
    "### 方法一：函数调用"
   ]
  },
  {
   "cell_type": "code",
   "execution_count": 1,
   "metadata": {},
   "outputs": [],
   "source": [
    "import sys,os\n",
    "import warnings\n",
    "warnings.filterwarnings(\"ignore\")"
   ]
  },
  {
   "cell_type": "code",
   "execution_count": 2,
   "metadata": {},
   "outputs": [
    {
     "name": "stdout",
     "output_type": "stream",
     "text": [
      "e:\\LargeModel\\Speech_Synthesis\\GPT_Sovits\n"
     ]
    },
    {
     "data": {
      "text/plain": [
       "['e:\\\\LargeModel\\\\Speech_Synthesis\\\\GPT_Sovits',\n",
       " 'E:\\\\LargeModel',\n",
       " 'E:\\\\LargeModel\\\\Speech_Synthesis\\\\gpt_sovits_inference',\n",
       " 'e:\\\\LargeModel\\\\Speech_Synthesis\\\\GPT_Sovits',\n",
       " 'd:\\\\Anaconda\\\\python38.zip',\n",
       " 'd:\\\\Anaconda\\\\DLLs',\n",
       " 'd:\\\\Anaconda\\\\lib',\n",
       " 'd:\\\\Anaconda',\n",
       " '',\n",
       " 'D:\\\\Anaconda\\\\lib\\\\site-packages',\n",
       " 'D:\\\\Anaconda\\\\lib\\\\site-packages\\\\win32',\n",
       " 'D:\\\\Anaconda\\\\lib\\\\site-packages\\\\win32\\\\lib',\n",
       " 'D:\\\\Anaconda\\\\lib\\\\site-packages\\\\Pythonwin']"
      ]
     },
     "execution_count": 2,
     "metadata": {},
     "output_type": "execute_result"
    }
   ],
   "source": [
    "print(os.getcwd())\n",
    "sys.path"
   ]
  },
  {
   "cell_type": "code",
   "execution_count": 3,
   "metadata": {},
   "outputs": [
    {
     "name": "stdout",
     "output_type": "stream",
     "text": [
      "---------------------------------------------TTS Config---------------------------------------------\n",
      "device              : cuda\n",
      "is_half             : True\n",
      "t2s_weights_path    : GPT_SoVITS\\pretrained_models\\s1bert25hz-2kh-longer-epoch=68e-step=50232.ckpt\n",
      "vits_weights_path   : GPT_SoVITS\\pretrained_models\\s2G488k.pth\n",
      "bert_base_path      : GPT_SoVITS\\pretrained_models\\chinese-roberta-wwm-ext-large\n",
      "cnhuhbert_base_path : GPT_SoVITS\\pretrained_models\\chinese-hubert-base\n",
      "flash_attn_enabled  : True\n",
      "----------------------------------------------------------------------------------------------------\n",
      "\n",
      "Loading Text2Semantic weights from GPT_SoVITS\\pretrained_models\\s1bert25hz-2kh-longer-epoch=68e-step=50232.ckpt\n",
      "Using Flash Attention\n",
      "Loading VITS weights from GPT_SoVITS\\pretrained_models\\s2G488k.pth\n",
      "Loading BERT weights from GPT_SoVITS\\pretrained_models\\chinese-roberta-wwm-ext-large\n",
      "Loading CNHuBERT weights from GPT_SoVITS\\pretrained_models\\chinese-hubert-base\n"
     ]
    }
   ],
   "source": [
    "#选择运行哪一个版本\n",
    "version_choose = '0306fix' \n",
    "version_choose = 'fast_inference'\n",
    "\n",
    "if version_choose == 'fast_inference' :\n",
    "    from GPT_SoVITS.inference_webui_fast_inference_maple import handle\n",
    "\n",
    "elif version_choose == '0306fix':\n",
    "    from GPT_SoVITS.inference_maple import handle"
   ]
  },
  {
   "cell_type": "code",
   "execution_count": null,
   "metadata": {},
   "outputs": [],
   "source": [
    "text = '''可以是不完美的，你一是不有我的知头，你就看向我，你种倒影着夏夜绚烂的眼眶，会热的吸引，竟让看水被心化，你的存在治愈我也慢的沉埃\n",
    "'''\n",
    "text = '''\n",
    "在社会发展过程中，科技与社会总是相互作用、相互交织。科技有其优越性，但依然不足以让社会听命于它；社会也有一些优先性，但不足以完全束缚科学的自由性。本文将先描述科技的整个发展历程，并叙述在此期间社会的状况，以此来对比得出两者的关系。由于我们现行的科技思想理念源于古希腊的思辨理性，所以本文先从古希腊开始，讲述科学科技的发展以及它所受到的社会思想的制约，同时也会讲到科技的发展对社会的影响。\n",
    "'''"
   ]
  },
  {
   "cell_type": "code",
   "execution_count": null,
   "metadata": {},
   "outputs": [],
   "source": [
    "#语音合成模型初始化\n",
    "ref_wav_path=\"E:\\LargeModel\\Speech_Synthesis\\GPT_SOVITS_0训练集\\派蒙-效果并不好\\参考音频\\说话—既然罗莎莉亚说足迹上有元素力，用元素视野应该能很清楚地看到吧。.wav\"\n",
    "prompt_text= '既然罗莎莉亚说足迹上有元素力，用元素视野应该能很清楚地看到吧。'\n",
    "prompt_language='zh'\n",
    "text=text#'你好呀！'\n",
    "text_language='zh'\n",
    "ref_free=False\n",
    "start=False\n",
    "top_k=5\n",
    "top_p=1\n",
    "temperature=1\n",
    "# how_to_cut='凑四句一切'\n",
    "how_to_cut='按标点符号切'\n",
    "\n",
    "#0306fix版本有流式输出，输出快了一些，但是中间有停顿\n",
    "stream=True\n",
    "audio_save=False\n",
    "audio_save_file='./output.wav'\n",
    "\n",
    "sovits_path = r\"GPT_SoVITS\\pretrained_models\\s2G488k.pth\"\n",
    "gpt_path = r\"GPT_SoVITS\\pretrained_models\\s1bert25hz-2kh-longer-epoch=68e-step=50232.ckpt\"\n",
    "audio_save=False\n",
    "audio_save_file='output.wav'\n",
    "#---------------------------------------------------#\n",
    "text_language2='中英混合'\n",
    "prompt_language2='中英混合'\n",
    "batch_size=6         # int. batch size for inference\n",
    "split_bucket=True   # bool. whether to split the batch into multiple buckets.\n",
    "speed_factor=1.3\n",
    "ref_text_free=False\n",
    "\n",
    "if version_choose == 'fast_inference':\n",
    "    params={'text':text, 'text_lang':text_language2, \n",
    "              'ref_audio_path':ref_wav_path, 'prompt_text':prompt_text, \n",
    "              'prompt_lang':prompt_language2, 'top_k':top_k, \n",
    "              'top_p':top_p, 'temperature':temperature, \n",
    "              'text_split_method':how_to_cut, 'batch_size':batch_size, \n",
    "              'speed_factor':speed_factor, 'ref_text_free':ref_text_free,\n",
    "              'split_bucket':split_bucket, 'audio_save':audio_save, \n",
    "              'audio_save_file':audio_save_file, 'mygpt_path':gpt_path, 'mysovits_path':sovits_path}\n",
    "    \n",
    "elif version_choose == '0306fix':\n",
    "    params = {'ref_wav_path':ref_wav_path, 'prompt_text':prompt_text, 'prompt_language':prompt_language, 'text':text, 'text_language':text_language, 'sovits_path':sovits_path, 'gpt_path':gpt_path, 'start':start, 'top_k':top_k, 'top_p':top_p, 'temperature':temperature, 'how_to_cut':how_to_cut, 'ref_free':ref_free, 'stream':stream, 'audio_save':audio_save, 'audio_save_file':audio_save_file}\n",
    "\n",
    "handle(**params)"
   ]
  },
  {
   "cell_type": "code",
   "execution_count": null,
   "metadata": {},
   "outputs": [],
   "source": [
    "不含读出来的时间：    handle开始          更改路径及tts_pipline初始化两个模型路径后          handle结束\n",
    "2205字：第一次：0.0009961128234863281           37.78469920158386                 37.78569531440735\n",
    "        第二次：0.0009927749633789062           30.431071519851685                30.432064294815063\n",
    "        更改路径后：1.8661799430847168          32.44429302215576                 34.31047296524048\n",
    "--------------------------------------------------------------------------------------------------------------------\n",
    "193字，第一次大概14秒"
   ]
  },
  {
   "cell_type": "markdown",
   "metadata": {},
   "source": [
    "### 方法二，API调用--推理0306fix包"
   ]
  },
  {
   "cell_type": "code",
   "execution_count": null,
   "metadata": {},
   "outputs": [],
   "source": [
    "import requests\n",
    "import winsound\n",
    "import os\n",
    "import sys\n",
    "text = \"在社会发展过程中，科技与社会总是相互作用、相互交织。\"\n",
    "text2 = \"The authors are grateful to the referees for valuable suggestions to improve the article. \"\n",
    "\n",
    "#先双击\"E:\\LargeModel\\Speech_Synthesis\\GPT_Sovits\\GPT-SoVITS-beta\\GPT-SoVITS-beta0306\\api.bat\":他的内容是runtime\\python.exe api.py pause\n",
    "#首次加载很慢\n",
    "\n",
    "#推理的web界面的怎么切，top_k， top_p,temperature参数在 inference_webui.py 的get_tts_wav函数中修改默认值。\n",
    "import requests\n",
    "import winsound\n",
    "url = 'http://127.0.0.1:9880'\n",
    "params = {\n",
    "    'refer_wav_path':\"E:\\LargeModel\\Speech_Synthesis\\GPT_Sovits\\GPT-SoVITS-beta\\派蒙--官方给的\\参考音频\\说话—既然罗莎莉亚说足迹上有元素力，用元素视野应该能很清楚地看到吧。.wav\",\n",
    "    'prompt_text': '既然罗莎莉亚说足迹上有元素力，用元素视野应该能很清楚地看到吧。',\n",
    "    'prompt_language':'zh',\n",
    "    'text':text,\n",
    "    'text_language':'zh'\n",
    "}\n",
    "\n",
    "response = requests.get(url, params)\n",
    "# response.url #点击可以直接看到音频\n",
    "# response.headers\n",
    "# response.content #网页返回的内容，是音频的16进制文件\n",
    "\n",
    "#播放音频\n",
    "winsound.PlaySound(response.content, winsound.SND_MEMORY)"
   ]
  },
  {
   "cell_type": "code",
   "execution_count": null,
   "metadata": {},
   "outputs": [],
   "source": [
    "#下载音频----来自文心一言\n",
    "import wave  \n",
    "# WAV 文件参数  \n",
    "nchannels = 1  # 声道数，单声道为 1，立体声为 2  \n",
    "sampwidth = 2  # 样本宽度（字节），对于 16 位音频为 2  \n",
    "framerate = 32000  # 采样率  \n",
    "nframes = len(response.content) // sampwidth  # 总帧数，根据样本宽度和字节流长度计算  \n",
    "  \n",
    "# 创建 WAV 文件对象  \n",
    "with wave.open(\"output.wav\", \"wb\") as wav_file:  \n",
    "    # 设置 WAV 文件参数  \n",
    "    wav_file.setnchannels(nchannels)  \n",
    "    wav_file.setsampwidth(sampwidth)  \n",
    "    wav_file.setframerate(framerate)  \n",
    " \n",
    "    # 写入文件头  \n",
    "    wav_file.writeframes(b'')  # 写入空字节以生成文件头    \n",
    "    # 写入音频数据  \n",
    "    wav_file.writeframes(response.content)"
   ]
  }
 ],
 "metadata": {
  "kernelspec": {
   "display_name": "base",
   "language": "python",
   "name": "python3"
  },
  "language_info": {
   "codemirror_mode": {
    "name": "ipython",
    "version": 3
   },
   "file_extension": ".py",
   "mimetype": "text/x-python",
   "name": "python",
   "nbconvert_exporter": "python",
   "pygments_lexer": "ipython3",
   "version": "3.8.18"
  }
 },
 "nbformat": 4,
 "nbformat_minor": 2
}
